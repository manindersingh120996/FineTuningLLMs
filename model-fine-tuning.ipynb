{
 "cells": [
  {
   "cell_type": "code",
   "execution_count": 1,
   "metadata": {
    "_cell_guid": "b1076dfc-b9ad-4769-8c92-a6c4dae69d19",
    "_uuid": "8f2839f25d086af736a60e9eeb907d3b93b6e0e5",
    "execution": {
     "iopub.execute_input": "2023-09-15T05:47:47.969499Z",
     "iopub.status.busy": "2023-09-15T05:47:47.968943Z",
     "iopub.status.idle": "2023-09-15T05:47:47.995170Z",
     "shell.execute_reply": "2023-09-15T05:47:47.994168Z",
     "shell.execute_reply.started": "2023-09-15T05:47:47.969441Z"
    }
   },
   "outputs": [
    {
     "name": "stdout",
     "output_type": "stream",
     "text": [
      "/kaggle/input/datarepeat/data_to_gpt_2_final (6).txt\n",
      "/kaggle/input/new-dataset/data_to_gpt_2_final (1).txt\n",
      "/kaggle/input/data1dsf1/data_to_gpt_2_final (4).txt\n"
     ]
    }
   ],
   "source": [
    "# This Python 3 environment comes with many helpful analytics libraries installed\n",
    "# It is defined by the kaggle/python Docker image: https://github.com/kaggle/docker-python\n",
    "# For example, here's several helpful packages to load\n",
    "\n",
    "import numpy as np # linear algebra\n",
    "import pandas as pd # data processing, CSV file I/O (e.g. pd.read_csv)\n",
    "\n",
    "# Input data files are available in the read-only \"../input/\" directory\n",
    "# For example, running this (by clicking run or pressing Shift+Enter) will list all files under the input directory\n",
    "\n",
    "import os\n",
    "for dirname, _, filenames in os.walk('/kaggle/input'):\n",
    "    for filename in filenames:\n",
    "        print(os.path.join(dirname, filename))\n",
    "\n",
    "# You can write up to 20GB to the current directory (/kaggle/working/) that gets preserved as output when you create a version using \"Save & Run All\" \n",
    "# You can also write temporary files to /kaggle/temp/, but they won't be saved outside of the current session"
   ]
  },
  {
   "cell_type": "code",
   "execution_count": 2,
   "metadata": {
    "execution": {
     "iopub.execute_input": "2023-09-15T05:47:47.997894Z",
     "iopub.status.busy": "2023-09-15T05:47:47.997492Z",
     "iopub.status.idle": "2023-09-15T05:47:49.005571Z",
     "shell.execute_reply": "2023-09-15T05:47:49.004129Z",
     "shell.execute_reply.started": "2023-09-15T05:47:47.997859Z"
    }
   },
   "outputs": [
    {
     "name": "stdout",
     "output_type": "stream",
     "text": [
      "Fri Sep 15 05:47:48 2023       \n",
      "+-----------------------------------------------------------------------------+\n",
      "| NVIDIA-SMI 470.161.03   Driver Version: 470.161.03   CUDA Version: 11.4     |\n",
      "|-------------------------------+----------------------+----------------------+\n",
      "| GPU  Name        Persistence-M| Bus-Id        Disp.A | Volatile Uncorr. ECC |\n",
      "| Fan  Temp  Perf  Pwr:Usage/Cap|         Memory-Usage | GPU-Util  Compute M. |\n",
      "|                               |                      |               MIG M. |\n",
      "|===============================+======================+======================|\n",
      "|   0  Tesla P100-PCIE...  Off  | 00000000:00:04.0 Off |                    0 |\n",
      "| N/A   35C    P0    26W / 250W |      0MiB / 16280MiB |      0%      Default |\n",
      "|                               |                      |                  N/A |\n",
      "+-------------------------------+----------------------+----------------------+\n",
      "                                                                               \n",
      "+-----------------------------------------------------------------------------+\n",
      "| Processes:                                                                  |\n",
      "|  GPU   GI   CI        PID   Type   Process name                  GPU Memory |\n",
      "|        ID   ID                                                   Usage      |\n",
      "|=============================================================================|\n",
      "|  No running processes found                                                 |\n",
      "+-----------------------------------------------------------------------------+\n"
     ]
    }
   ],
   "source": [
    "!nvidia-smi\n"
   ]
  },
  {
   "cell_type": "code",
   "execution_count": 3,
   "metadata": {
    "execution": {
     "iopub.execute_input": "2023-09-15T05:47:49.012740Z",
     "iopub.status.busy": "2023-09-15T05:47:49.010928Z",
     "iopub.status.idle": "2023-09-15T05:48:05.156143Z",
     "shell.execute_reply": "2023-09-15T05:48:05.154904Z",
     "shell.execute_reply.started": "2023-09-15T05:47:49.012693Z"
    }
   },
   "outputs": [
    {
     "name": "stdout",
     "output_type": "stream",
     "text": [
      "Collecting rouge_score\n",
      "  Downloading rouge_score-0.1.2.tar.gz (17 kB)\n",
      "  Preparing metadata (setup.py) ... \u001b[?25ldone\n",
      "\u001b[?25hRequirement already satisfied: absl-py in /opt/conda/lib/python3.10/site-packages (from rouge_score) (1.4.0)\n",
      "Requirement already satisfied: nltk in /opt/conda/lib/python3.10/site-packages (from rouge_score) (3.2.4)\n",
      "Requirement already satisfied: numpy in /opt/conda/lib/python3.10/site-packages (from rouge_score) (1.23.5)\n",
      "Requirement already satisfied: six>=1.14.0 in /opt/conda/lib/python3.10/site-packages (from rouge_score) (1.16.0)\n",
      "Building wheels for collected packages: rouge_score\n",
      "  Building wheel for rouge_score (setup.py) ... \u001b[?25ldone\n",
      "\u001b[?25h  Created wheel for rouge_score: filename=rouge_score-0.1.2-py3-none-any.whl size=24954 sha256=c72f99c5d45f00c89edb6f9365c18fe97850d4be7ea0b1e782356c7bdddf7126\n",
      "  Stored in directory: /root/.cache/pip/wheels/5f/dd/89/461065a73be61a532ff8599a28e9beef17985c9e9c31e541b4\n",
      "Successfully built rouge_score\n",
      "Installing collected packages: rouge_score\n",
      "Successfully installed rouge_score-0.1.2\n",
      "\u001b[33mWARNING: Running pip as the 'root' user can result in broken permissions and conflicting behaviour with the system package manager. It is recommended to use a virtual environment instead: https://pip.pypa.io/warnings/venv\u001b[0m\u001b[33m\n",
      "\u001b[0mNote: you may need to restart the kernel to use updated packages.\n"
     ]
    }
   ],
   "source": [
    "pip install rouge_score"
   ]
  },
  {
   "cell_type": "code",
   "execution_count": 4,
   "metadata": {
    "execution": {
     "iopub.execute_input": "2023-09-15T05:48:05.159535Z",
     "iopub.status.busy": "2023-09-15T05:48:05.159130Z",
     "iopub.status.idle": "2023-09-15T05:48:29.948847Z",
     "shell.execute_reply": "2023-09-15T05:48:29.947616Z",
     "shell.execute_reply.started": "2023-09-15T05:48:05.159494Z"
    }
   },
   "outputs": [
    {
     "name": "stdout",
     "output_type": "stream",
     "text": [
      "\u001b[31mERROR: pip's dependency resolver does not currently take into account all the packages that are installed. This behaviour is the source of the following dependency conflicts.\n",
      "cudf 23.4.0 requires cupy-cuda11x<12.0.0a0,>=9.5.0, which is not installed.\n",
      "tensorflow 2.11.0 requires protobuf<3.20,>=3.9.2, but you have protobuf 3.20.2 which is incompatible.\n",
      "tensorflow-serving-api 2.11.0 requires protobuf<3.20,>=3.9.2, but you have protobuf 3.20.2 which is incompatible.\n",
      "kfp 1.8.20 requires google-api-python-client<2,>=1.7.8, but you have google-api-python-client 2.86.0 which is incompatible.\n",
      "kfp 1.8.20 requires PyYAML<6,>=5.3, but you have pyyaml 6.0 which is incompatible.\n",
      "gcsfs 2023.3.0 requires fsspec==2023.3.0, but you have fsspec 2023.4.0 which is incompatible.\n",
      "cudf 23.4.0 requires protobuf<4.22,>=4.21.6, but you have protobuf 3.20.2 which is incompatible.\n",
      "beatrix-jupyterlab 2023.46.184821 requires jupyter-server~=1.16, but you have jupyter-server 2.5.0 which is incompatible.\n",
      "apache-beam 2.46.0 requires dill<0.3.2,>=0.3.1.1, but you have dill 0.3.6 which is incompatible.\n",
      "apache-beam 2.46.0 requires pyarrow<10.0.0,>=3.0.0, but you have pyarrow 10.0.1 which is incompatible.\u001b[0m\u001b[31m\n",
      "\u001b[0m\u001b[33mWARNING: Running pip as the 'root' user can result in broken permissions and conflicting behaviour with the system package manager. It is recommended to use a virtual environment instead: https://pip.pypa.io/warnings/venv\u001b[0m\u001b[33m\n",
      "\u001b[0mNote: you may need to restart the kernel to use updated packages.\n"
     ]
    }
   ],
   "source": [
    "pip install transformers[sentencepiece] datasets sacrebleu rouge_score py7zr torch matplotlib nltk -q"
   ]
  },
  {
   "cell_type": "code",
   "execution_count": 5,
   "metadata": {
    "execution": {
     "iopub.execute_input": "2023-09-15T05:51:58.603543Z",
     "iopub.status.busy": "2023-09-15T05:51:58.603136Z",
     "iopub.status.idle": "2023-09-15T05:52:11.523527Z",
     "shell.execute_reply": "2023-09-15T05:52:11.522528Z",
     "shell.execute_reply.started": "2023-09-15T05:51:58.603504Z"
    }
   },
   "outputs": [
    {
     "name": "stderr",
     "output_type": "stream",
     "text": [
      "/opt/conda/lib/python3.10/site-packages/scipy/__init__.py:146: UserWarning: A NumPy version >=1.16.5 and <1.23.0 is required for this version of SciPy (detected version 1.23.5\n",
      "  warnings.warn(f\"A NumPy version >={np_minversion} and <{np_maxversion}\"\n"
     ]
    },
    {
     "name": "stdout",
     "output_type": "stream",
     "text": [
      "[nltk_data] Downloading package punkt to /usr/share/nltk_data...\n",
      "[nltk_data]   Package punkt is already up-to-date!\n",
      "Model will be trained on cuda\n"
     ]
    }
   ],
   "source": [
    "from transformers import pipeline, set_seed\n",
    "\n",
    "import matplotlib.pyplot as plt\n",
    "\n",
    "import pandas as pd\n",
    "import numpy as np\n",
    "from datasets import load_dataset,load_metric\n",
    "\n",
    "from transformers import AutoModelForSeq2SeqLM, AutoTokenizer\n",
    "\n",
    "import nltk\n",
    "from nltk.tokenize import sent_tokenize\n",
    "\n",
    "from tqdm import tqdm\n",
    "import torch\n",
    "nltk.download(\"punkt\")\n",
    "device = \"cuda\" if torch.cuda.is_available() else \"cpu\"\n",
    "\n",
    "print(f\"Model will be trained on {device}\")"
   ]
  },
  {
   "cell_type": "code",
   "execution_count": 6,
   "metadata": {
    "execution": {
     "iopub.execute_input": "2023-09-15T05:52:11.526259Z",
     "iopub.status.busy": "2023-09-15T05:52:11.525448Z",
     "iopub.status.idle": "2023-09-15T05:52:11.532866Z",
     "shell.execute_reply": "2023-09-15T05:52:11.530857Z",
     "shell.execute_reply.started": "2023-09-15T05:52:11.526223Z"
    }
   },
   "outputs": [],
   "source": [
    "# !pip freeze"
   ]
  },
  {
   "cell_type": "code",
   "execution_count": 7,
   "metadata": {
    "execution": {
     "iopub.execute_input": "2023-09-15T05:52:29.272317Z",
     "iopub.status.busy": "2023-09-15T05:52:29.271588Z",
     "iopub.status.idle": "2023-09-15T05:52:44.805174Z",
     "shell.execute_reply": "2023-09-15T05:52:44.804187Z",
     "shell.execute_reply.started": "2023-09-15T05:52:29.272283Z"
    }
   },
   "outputs": [
    {
     "data": {
      "application/vnd.jupyter.widget-view+json": {
       "model_id": "d67d43da022a4320bb0922fa5cdabe26",
       "version_major": 2,
       "version_minor": 0
      },
      "text/plain": [
       "Downloading (…)okenizer_config.json:   0%|          | 0.00/1.48k [00:00<?, ?B/s]"
      ]
     },
     "metadata": {},
     "output_type": "display_data"
    },
    {
     "data": {
      "application/vnd.jupyter.widget-view+json": {
       "model_id": "cb290e0317be4fb8bf23a8773a6efa1e",
       "version_major": 2,
       "version_minor": 0
      },
      "text/plain": [
       "Downloading (…)olve/main/vocab.json:   0%|          | 0.00/703k [00:00<?, ?B/s]"
      ]
     },
     "metadata": {},
     "output_type": "display_data"
    },
    {
     "data": {
      "application/vnd.jupyter.widget-view+json": {
       "model_id": "78d94131e1264011af436f3ff148e069",
       "version_major": 2,
       "version_minor": 0
      },
      "text/plain": [
       "Downloading (…)olve/main/merges.txt:   0%|          | 0.00/294k [00:00<?, ?B/s]"
      ]
     },
     "metadata": {},
     "output_type": "display_data"
    },
    {
     "data": {
      "application/vnd.jupyter.widget-view+json": {
       "model_id": "918f42f495824d16b8dab14d36d5e58d",
       "version_major": 2,
       "version_minor": 0
      },
      "text/plain": [
       "Downloading (…)in/added_tokens.json:   0%|          | 0.00/2.00 [00:00<?, ?B/s]"
      ]
     },
     "metadata": {},
     "output_type": "display_data"
    },
    {
     "data": {
      "application/vnd.jupyter.widget-view+json": {
       "model_id": "3e4ae304a3994af7b1665d6598e841bb",
       "version_major": 2,
       "version_minor": 0
      },
      "text/plain": [
       "Downloading (…)cial_tokens_map.json:   0%|          | 0.00/12.5k [00:00<?, ?B/s]"
      ]
     },
     "metadata": {},
     "output_type": "display_data"
    },
    {
     "data": {
      "application/vnd.jupyter.widget-view+json": {
       "model_id": "1b3a90c506d849278903de85d19cfc52",
       "version_major": 2,
       "version_minor": 0
      },
      "text/plain": [
       "Downloading (…)lve/main/config.json:   0%|          | 0.00/1.57k [00:00<?, ?B/s]"
      ]
     },
     "metadata": {},
     "output_type": "display_data"
    },
    {
     "data": {
      "application/vnd.jupyter.widget-view+json": {
       "model_id": "706fcb7cc38c479ba215e24b77e01fb2",
       "version_major": 2,
       "version_minor": 0
      },
      "text/plain": [
       "Downloading pytorch_model.bin:   0%|          | 0.00/892M [00:00<?, ?B/s]"
      ]
     },
     "metadata": {},
     "output_type": "display_data"
    }
   ],
   "source": [
    "\n",
    "#loading model\n",
    "model_ckpt = \"Salesforce/codet5-base\"\n",
    "\n",
    "tokenizer = AutoTokenizer.from_pretrained(model_ckpt)\n",
    "model_before_training = AutoModelForSeq2SeqLM.from_pretrained(model_ckpt).to(device)"
   ]
  },
  {
   "cell_type": "code",
   "execution_count": 8,
   "metadata": {
    "execution": {
     "iopub.execute_input": "2023-09-15T05:52:44.807274Z",
     "iopub.status.busy": "2023-09-15T05:52:44.806918Z",
     "iopub.status.idle": "2023-09-15T05:52:44.889914Z",
     "shell.execute_reply": "2023-09-15T05:52:44.889004Z",
     "shell.execute_reply.started": "2023-09-15T05:52:44.807241Z"
    }
   },
   "outputs": [],
   "source": [
    "#loading dataset\n",
    "\n",
    "with open('/kaggle/input/data1dsf1/data_to_gpt_2_final (4).txt','r') as file:\n",
    "    lines = file.readlines()\n",
    "\n",
    "import re\n",
    "test1 = []\n",
    "for line in lines:\n",
    "    test1.append(re.sub('  +', ' ', line))\n",
    "test = [sub.replace(\"'\", '').replace('\\n','') for sub in test1]\n",
    "\n",
    "inputs = []\n",
    "outputs = []\n",
    "for item in test:\n",
    "    if test.index(item)%2==0:\n",
    "        # print(item)\n",
    "        inputs.append(item)\n",
    "    if test.index(item)%2!=0:\n",
    "        # print(item,'\\n')\n",
    "        outputs.append(item)\n",
    "\n"
   ]
  },
  {
   "cell_type": "code",
   "execution_count": null,
   "metadata": {},
   "outputs": [],
   "source": [
    "from sklearn.model_selection import train_test_split\n",
    "# data_train,data_val"
   ]
  },
  {
   "cell_type": "code",
   "execution_count": 23,
   "metadata": {
    "execution": {
     "iopub.execute_input": "2023-09-15T06:52:59.091007Z",
     "iopub.status.busy": "2023-09-15T06:52:59.090652Z",
     "iopub.status.idle": "2023-09-15T06:52:59.107746Z",
     "shell.execute_reply": "2023-09-15T06:52:59.106689Z",
     "shell.execute_reply.started": "2023-09-15T06:52:59.090979Z"
    }
   },
   "outputs": [
    {
     "name": "stdout",
     "output_type": "stream",
     "text": [
      "851\n"
     ]
    }
   ],
   "source": [
    "dicts = {}\n",
    "test_percentage = 0.9\n",
    "data_index = int(test_percentage * len(inputs))\n",
    "print(data_index)\n",
    "dicts['prompt'] = inputs[:data_index]\n",
    "dicts['code'] = outputs[:data_index]\n",
    "data_train = pd.DataFrame(dicts)\n",
    "data_train = data_train.sample(frac=1)\n",
    "dicts = {}\n",
    "dicts['prompt'] = inputs[data_index:]\n",
    "dicts['code'] = outputs[data_index:]\n",
    "data_val = pd.DataFrame(dicts)\n",
    "data_val = data_val.sample(frac=1)"
   ]
  },
  {
   "cell_type": "code",
   "execution_count": 12,
   "metadata": {
    "execution": {
     "iopub.execute_input": "2023-09-15T05:56:13.966311Z",
     "iopub.status.busy": "2023-09-15T05:56:13.965922Z",
     "iopub.status.idle": "2023-09-15T05:56:14.763182Z",
     "shell.execute_reply": "2023-09-15T05:56:14.762257Z",
     "shell.execute_reply.started": "2023-09-15T05:56:13.966281Z"
    }
   },
   "outputs": [
    {
     "data": {
      "image/png": "[encoded data removed]",
      "text/plain": [
       "<Figure size 1000x400 with 2 Axes>"
      ]
     },
     "metadata": {},
     "output_type": "display_data"
    }
   ],
   "source": [
    "# histogram of length of dialogue and summary\n",
    "\n",
    "prompt_token_length = [len(tokenizer.encode(s)) for s in data_train['prompt'] ]\n",
    "code_token_length = [len(tokenizer.encode(s))for s in data_train['code']]\n",
    "\n",
    "fig, axes = plt.subplots(1,2, figsize=(10,4))\n",
    "axes[0].hist(prompt_token_length, bins=20, color='C0',edgecolor='C0')\n",
    "axes[0].set_title(\"PROMPT Token Length\")\n",
    "axes[0].set_xlabel(\"Length\")\n",
    "axes[0].set_ylabel(\"Count\")\n",
    "\n",
    "axes[1].hist(code_token_length, bins=20, color='C0',edgecolor='C0')\n",
    "axes[1].set_title(\"CODE Token Length\")\n",
    "axes[1].set_xlabel(\"Length\")\n",
    "axes[1].set_ylabel(\"Count\")\n",
    "\n",
    "plt.tight_layout()\n",
    "plt.show()"
   ]
  },
  {
   "cell_type": "code",
   "execution_count": 13,
   "metadata": {
    "execution": {
     "iopub.execute_input": "2023-09-15T05:56:14.765685Z",
     "iopub.status.busy": "2023-09-15T05:56:14.765075Z",
     "iopub.status.idle": "2023-09-15T05:56:14.777590Z",
     "shell.execute_reply": "2023-09-15T05:56:14.776500Z",
     "shell.execute_reply.started": "2023-09-15T05:56:14.765645Z"
    }
   },
   "outputs": [],
   "source": [
    "def generate_batch_sized_chunks(list_of_elements, batch_size):\n",
    "    for i in range(0,len(list_of_elements),batch_size):\n",
    "        yield list_of_elements[i:i+batch_size]\n",
    "\n",
    "\n",
    "\n",
    "#code for computing rouge score\n",
    "def calculate_metric_on_test_ds(datasets,metric,model,tokenizer,\n",
    "                                batch_size=2,device=device,column_prompt=\"prompt\",\n",
    "                                column_code=\"code\"):\n",
    "    prompt_batches = list(generate_batch_sized_chunks(datasets[column_prompt].tolist(),batch_size))\n",
    "\n",
    "    code_batches = list(generate_batch_sized_chunks(datasets[column_code].tolist(),batch_size))\n",
    "\n",
    "\n",
    "  for prompt_batch, code_batch in tqdm(\n",
    "      zip(prompt_batches, code_batches), total = len(prompt_batches)):\n",
    "    prompts = tokenizer(prompt_batch , max_length=128,truncation=True,\n",
    "                        padding=\"max_length\",)\n",
    "    codes = model.generate(input_ids = torch.tensor(prompts[\"input_ids\"]).to(device),\n",
    "                           attention_mask = torch.tensor(prompts[\"attention_mask\"]).to(device),\n",
    "                           length_penalty = 0.8, num_beams=8, max_length = 128)\n",
    "    \n",
    "    decoded_codes = [tokenizer.decode(s,skip_special_tokens=True,\n",
    "                                      clean_up_tokenization_spaces=True)\n",
    "    for s in codes]\n",
    "\n",
    "    decoded_codes = [d.replace(\"<n>\",\" \") for d in decoded_codes]\n",
    "\n",
    "    metric.add_batch(predictions = decoded_codes, references=code_batch)\n",
    "\n",
    "  score = metric.compute()\n",
    "  return score"
   ]
  },
  {
   "cell_type": "code",
   "execution_count": null,
   "metadata": {},
   "outputs": [],
   "source": [
    "pipe = pipeline('text2text-generation', model = model_ckpt)\n",
    "# pipe = pipeline('summarization', model = model_ckpt)\n",
    "pipe_out = pipe(data_val['prompt'][5])\n",
    "\n",
    "modelname = \"name_of_your_model\"\n",
    "\n",
    "with open(f\"Results_before_finetuning_{modelname}.txt\",'a') as f:\n",
    "    print(\"Input Prompt:\")\n",
    "    print(data_val['prompt'][5])\n",
    "\n",
    "    print(\"Actual Output\")\n",
    "    print(data_val['code'][5])\n",
    "\n",
    "    print(\"Generated Output Before Training: \")\n",
    "    print(pipe_out)\n",
    "#     f.write(\"These below inputs and outputs are before training the model:\"+'\\n')\n",
    "#     f.write(\"Input Prompt:\"+'\\n')\n",
    "#     f.write(data_val['prompt'][5]+'\\n')\n",
    "#     f.write(\"Actual Output\"+'\\n')\n",
    "#     f.write(data_val['code'][5]+'\\n')\n",
    "#     f.write(\"Generated Output Before Training: \")\n",
    "# #     f.write(pipe_out[0]['generated_text'])\n",
    "#     f.write(pipe_out[0]['summary_text'])"
   ]
  },
  {
   "cell_type": "code",
   "execution_count": null,
   "metadata": {},
   "outputs": [],
   "source": []
  },
  {
   "cell_type": "code",
   "execution_count": 16,
   "metadata": {
    "execution": {
     "iopub.execute_input": "2023-09-15T05:56:20.094983Z",
     "iopub.status.busy": "2023-09-15T05:56:20.094006Z",
     "iopub.status.idle": "2023-09-15T05:56:38.967180Z",
     "shell.execute_reply": "2023-09-15T05:56:38.965890Z",
     "shell.execute_reply.started": "2023-09-15T05:56:20.094941Z"
    }
   },
   "outputs": [
    {
     "data": {
      "application/vnd.jupyter.widget-view+json": {
       "model_id": "8853d647ba2d480499304f47bdf5b760",
       "version_major": 2,
       "version_minor": 0
      },
      "text/plain": [
       "Downloading builder script:   0%|          | 0.00/2.16k [00:00<?, ?B/s]"
      ]
     },
     "metadata": {},
     "output_type": "display_data"
    },
    {
     "name": "stderr",
     "output_type": "stream",
     "text": [
      "100%|██████████| 23/23 [00:17<00:00,  1.28it/s]\n"
     ]
    },
    {
     "data": {
      "text/html": [
       "<div>\n",
       "<style scoped>\n",
       "    .dataframe tbody tr th:only-of-type {\n",
       "        vertical-align: middle;\n",
       "    }\n",
       "\n",
       "    .dataframe tbody tr th {\n",
       "        vertical-align: top;\n",
       "    }\n",
       "\n",
       "    .dataframe thead th {\n",
       "        text-align: right;\n",
       "    }\n",
       "</style>\n",
       "<table border=\"1\" class=\"dataframe\">\n",
       "  <thead>\n",
       "    <tr style=\"text-align: right;\">\n",
       "      <th></th>\n",
       "      <th>rouge1</th>\n",
       "      <th>rouge2</th>\n",
       "      <th>rougeL</th>\n",
       "      <th>rougeLsum</th>\n",
       "    </tr>\n",
       "  </thead>\n",
       "  <tbody>\n",
       "    <tr>\n",
       "      <th>model</th>\n",
       "      <td>0.171669</td>\n",
       "      <td>0.067277</td>\n",
       "      <td>0.167364</td>\n",
       "      <td>0.167048</td>\n",
       "    </tr>\n",
       "  </tbody>\n",
       "</table>\n",
       "</div>"
      ],
      "text/plain": [
       "         rouge1    rouge2    rougeL  rougeLsum\n",
       "model  0.171669  0.067277  0.167364   0.167048"
      ]
     },
     "execution_count": 16,
     "metadata": {},
     "output_type": "execute_result"
    }
   ],
   "source": [
    "rouge_names = [\"rouge1\",\"rouge2\",\"rougeL\",\"rougeLsum\"]\n",
    "\n",
    "rouge_metric = load_metric('rouge')\n",
    "\n",
    "score = calculate_metric_on_test_ds(data_val,rouge_metric,model_before_training,tokenizer=tokenizer)\n",
    "\n",
    "rouge_dict = dict((rn,score[rn].mid.fmeasure) for rn in rouge_names)\n",
    "pd.DataFrame(rouge_dict, index = ['model'])"
   ]
  },
  {
   "cell_type": "code",
   "execution_count": null,
   "metadata": {},
   "outputs": [],
   "source": [
    "class MyDataset(torch.utils.data.Dataset):\n",
    "    def __init__(self, data, tokenizer=tokenizer, max_input_length=128, max_target_length=128):\n",
    "        self.tokenizer = tokenizer\n",
    "        self.max_input_length = max_input_length\n",
    "        self.max_target_length = max_target_length\n",
    "        self.inputs = data['prompt'].tolist()\n",
    "        print(self.inputs[0])\n",
    "        self.targets = data['code'].tolist()\n",
    "        print(self.targets[0])\n",
    "\n",
    "    def __getitem__(self, index):\n",
    "      # print(\"inside getitem\")\n",
    "      input_encoding = self.tokenizer(self.inputs[index], max_length=self.max_input_length, truncation=True)\n",
    "        # target_encoding = self.tokenizer(self.targets[index], max_length=self.max_target_length, truncation=True)\n",
    "        with self.tokenizer.as_target_tokenizer():\n",
    "            target_encoding = self.tokenizer(self.targets[index], max_length=self.max_target_length, truncation=True)\n",
    "\n",
    "        return {\n",
    "            'input_ids': input_encoding['input_ids'],\n",
    "            'attention_mask': input_encoding['attention_mask'],\n",
    "            'labels': target_encoding['input_ids']\n",
    "        }\n",
    "\n",
    "    def __len__(self):\n",
    "        return len(self.inputs)\n",
    "\n",
    "\n",
    "\n",
    "# dataset_pt = data_train.map(convert_examples_to_features,batched=True)\n",
    "# dataset_pt_train = convert_examples_to_features(data_train)\n",
    "# dataset_pt_eval = convert_examples_to_features(data_val)\n",
    "dataset_pt_train_class = MyDataset(data_train)\n",
    "dataset_pt_eval_class = MyDataset(data_val)"
   ]
  },
  {
   "cell_type": "code",
   "execution_count": 18,
   "metadata": {
    "execution": {
     "iopub.execute_input": "2023-09-15T05:56:38.985734Z",
     "iopub.status.busy": "2023-09-15T05:56:38.983925Z",
     "iopub.status.idle": "2023-09-15T06:28:52.823755Z",
     "shell.execute_reply": "2023-09-15T06:28:52.822547Z",
     "shell.execute_reply.started": "2023-09-15T05:56:38.985696Z"
    }
   },
   "outputs": [
    {
     "name": "stderr",
     "output_type": "stream",
     "text": [
      "/opt/conda/lib/python3.10/site-packages/transformers/optimization.py:391: FutureWarning: This implementation of AdamW is deprecated and will be removed in a future version. Use the PyTorch implementation torch.optim.AdamW instead, or set `no_deprecation_warning=True` to disable this warning\n",
      "  warnings.warn(\n",
      "\u001b[34m\u001b[1mwandb\u001b[0m: Logging into wandb.ai. (Learn how to deploy a W&B server locally: https://wandb.me/wandb-server)\n",
      "\u001b[34m\u001b[1mwandb\u001b[0m: You can find your API key in your browser here: https://wandb.ai/authorize\n",
      "\u001b[34m\u001b[1mwandb\u001b[0m: Paste an API key from your profile and hit enter, or press ctrl+c to quit:"
     ]
    },
    {
     "name": "stdin",
     "output_type": "stream",
     "text": [
      "  ········································\n"
     ]
    },
    {
     "name": "stderr",
     "output_type": "stream",
     "text": [
      "\u001b[34m\u001b[1mwandb\u001b[0m: Appending key for api.wandb.ai to your netrc file: /root/.netrc\n"
     ]
    },
    {
     "data": {
      "text/html": [
       "wandb version 0.15.10 is available!  To upgrade, please run:\n",
       " $ pip install wandb --upgrade"
      ],
      "text/plain": [
       "<IPython.core.display.HTML object>"
      ]
     },
     "metadata": {},
     "output_type": "display_data"
    },
    {
     "data": {
      "text/html": [
       "Tracking run with wandb version 0.15.0"
      ],
      "text/plain": [
       "<IPython.core.display.HTML object>"
      ]
     },
     "metadata": {},
     "output_type": "display_data"
    },
    {
     "data": {
      "text/html": [
       "Run data is saved locally in <code>/kaggle/working/wandb/run-20230915_060316-3x0ffryx</code>"
      ],
      "text/plain": [
       "<IPython.core.display.HTML object>"
      ]
     },
     "metadata": {},
     "output_type": "display_data"
    },
    {
     "data": {
      "text/html": [
       "Syncing run <strong><a href='https://wandb.ai/manindersingh120996/huggingface/runs/3x0ffryx' target=\"_blank\">clear-planet-13</a></strong> to <a href='https://wandb.ai/manindersingh120996/huggingface' target=\"_blank\">Weights & Biases</a> (<a href='https://wandb.me/run' target=\"_blank\">docs</a>)<br/>"
      ],
      "text/plain": [
       "<IPython.core.display.HTML object>"
      ]
     },
     "metadata": {},
     "output_type": "display_data"
    },
    {
     "data": {
      "text/html": [
       " View project at <a href='https://wandb.ai/manindersingh120996/huggingface' target=\"_blank\">https://wandb.ai/manindersingh120996/huggingface</a>"
      ],
      "text/plain": [
       "<IPython.core.display.HTML object>"
      ]
     },
     "metadata": {},
     "output_type": "display_data"
    },
    {
     "data": {
      "text/html": [
       " View run at <a href='https://wandb.ai/manindersingh120996/huggingface/runs/3x0ffryx' target=\"_blank\">https://wandb.ai/manindersingh120996/huggingface/runs/3x0ffryx</a>"
      ],
      "text/plain": [
       "<IPython.core.display.HTML object>"
      ]
     },
     "metadata": {},
     "output_type": "display_data"
    },
    {
     "name": "stderr",
     "output_type": "stream",
     "text": [
      "/opt/conda/lib/python3.10/site-packages/transformers/tokenization_utils_base.py:3596: UserWarning: `as_target_tokenizer` is deprecated and will be removed in v5 of Transformers. You can tokenize your labels by using the argument `text_target` of the regular `__call__` method (either in the same call as your input texts if you use the same keyword arguments, or in a separate call.\n",
      "  warnings.warn(\n",
      "You're using a RobertaTokenizerFast tokenizer. Please note that with a fast tokenizer, using the `__call__` method is faster than using a method to encode the text followed by a call to the `pad` method to get a padded encoding.\n"
     ]
    },
    {
     "data": {
      "text/html": [
       "\n",
       "    <div>\n",
       "      \n",
       "      <progress value='700' max='700' style='width:300px; height:20px; vertical-align: middle;'></progress>\n",
       "      [700/700 25:01, Epoch 99/100]\n",
       "    </div>\n",
       "    <table border=\"1\" class=\"dataframe\">\n",
       "  <thead>\n",
       " <tr style=\"text-align: left;\">\n",
       "      <th>Step</th>\n",
       "      <th>Training Loss</th>\n",
       "      <th>Validation Loss</th>\n",
       "    </tr>\n",
       "  </thead>\n",
       "  <tbody>\n",
       "    <tr>\n",
       "      <td>100</td>\n",
       "      <td>0.110500</td>\n",
       "      <td>0.020963</td>\n",
       "    </tr>\n",
       "    <tr>\n",
       "      <td>200</td>\n",
       "      <td>0.027400</td>\n",
       "      <td>0.000524</td>\n",
       "    </tr>\n",
       "    <tr>\n",
       "      <td>300</td>\n",
       "      <td>0.012200</td>\n",
       "      <td>0.000158</td>\n",
       "    </tr>\n",
       "    <tr>\n",
       "      <td>400</td>\n",
       "      <td>0.008300</td>\n",
       "      <td>0.000057</td>\n",
       "    </tr>\n",
       "    <tr>\n",
       "      <td>500</td>\n",
       "      <td>0.005700</td>\n",
       "      <td>0.000066</td>\n",
       "    </tr>\n",
       "    <tr>\n",
       "      <td>600</td>\n",
       "      <td>0.004100</td>\n",
       "      <td>0.000047</td>\n",
       "    </tr>\n",
       "    <tr>\n",
       "      <td>700</td>\n",
       "      <td>0.004100</td>\n",
       "      <td>0.000032</td>\n",
       "    </tr>\n",
       "  </tbody>\n",
       "</table><p>"
      ],
      "text/plain": [
       "<IPython.core.display.HTML object>"
      ]
     },
     "metadata": {},
     "output_type": "display_data"
    }
   ],
   "source": [
    "from transformers import DataCollatorForSeq2Seq\n",
    "import time\n",
    "seq2seq_data_collator = DataCollatorForSeq2Seq(tokenizer,model = model_before_training)\n",
    "from transformers import TrainingArguments, Trainer\n",
    "start = time.time()\n",
    "trainer_args = TrainingArguments(output_dir='./result_for'+'_'+ modelname,\n",
    "                                 num_train_epochs = 100,\n",
    "                                 warmup_steps = 100,\n",
    "                                 per_device_train_batch_size = 8,\n",
    "                                 per_device_eval_batch_size = 8,\n",
    "                                 weight_decay = 0.0001,\n",
    "                                 logging_steps = 10,\n",
    "                                 push_to_hub = False,\n",
    "\n",
    "                                 evaluation_strategy = 'steps',\n",
    "                                 eval_steps = 100,\n",
    "                                 save_steps = 1e6,\n",
    "                                 gradient_accumulation_steps = 16,)\n",
    "\n",
    "trainer = Trainer(\n",
    "    model = model_before_training,\n",
    "    args = trainer_args,\n",
    "    train_dataset=dataset_pt_train_class,\n",
    "    eval_dataset = dataset_pt_eval_class,\n",
    "    data_collator = seq2seq_data_collator\n",
    ")\n",
    "\n",
    "trainer.train()\n",
    "\n",
    "trainer.save_model(\"./fine-tuned_\"+modelname)\n",
    "\n",
    "end = time.time()\n",
    "\n",
    "total_time = end-start"
   ]
  },
  {
   "cell_type": "code",
   "execution_count": 19,
   "metadata": {
    "execution": {
     "iopub.execute_input": "2023-09-15T06:28:52.832348Z",
     "iopub.status.busy": "2023-09-15T06:28:52.829896Z",
     "iopub.status.idle": "2023-09-15T06:29:10.720891Z",
     "shell.execute_reply": "2023-09-15T06:29:10.718661Z",
     "shell.execute_reply.started": "2023-09-15T06:28:52.832311Z"
    }
   },
   "outputs": [
    {
     "name": "stderr",
     "output_type": "stream",
     "text": [
      "100%|██████████| 23/23 [00:17<00:00,  1.34it/s]\n"
     ]
    },
    {
     "data": {
      "text/html": [
       "<div>\n",
       "<style scoped>\n",
       "    .dataframe tbody tr th:only-of-type {\n",
       "        vertical-align: middle;\n",
       "    }\n",
       "\n",
       "    .dataframe tbody tr th {\n",
       "        vertical-align: top;\n",
       "    }\n",
       "\n",
       "    .dataframe thead th {\n",
       "        text-align: right;\n",
       "    }\n",
       "</style>\n",
       "<table border=\"1\" class=\"dataframe\">\n",
       "  <thead>\n",
       "    <tr style=\"text-align: right;\">\n",
       "      <th></th>\n",
       "      <th>rouge1</th>\n",
       "      <th>rouge2</th>\n",
       "      <th>rougeL</th>\n",
       "      <th>rougeLsum</th>\n",
       "    </tr>\n",
       "  </thead>\n",
       "  <tbody>\n",
       "    <tr>\n",
       "      <th>Fine Tuned Model</th>\n",
       "      <td>1.0</td>\n",
       "      <td>1.0</td>\n",
       "      <td>1.0</td>\n",
       "      <td>1.0</td>\n",
       "    </tr>\n",
       "  </tbody>\n",
       "</table>\n",
       "</div>"
      ],
      "text/plain": [
       "                  rouge1  rouge2  rougeL  rougeLsum\n",
       "Fine Tuned Model     1.0     1.0     1.0        1.0"
      ]
     },
     "execution_count": 19,
     "metadata": {},
     "output_type": "execute_result"
    }
   ],
   "source": [
    "rouge_names = [\"rouge1\",\"rouge2\",\"rougeL\",\"rougeLsum\"]\n",
    "\n",
    "rouge_metric = load_metric('rouge')\n",
    "\n",
    "# score = calculate_metric_on_test_ds(data_val,rouge_metric,model_before_training,tokenizer=tokenizer)\n",
    "\n",
    "\n",
    "score = calculate_metric_on_test_ds(\n",
    "    data_val,rouge_metric,model = trainer.model,tokenizer = tokenizer,)\n",
    "\n",
    "rouge_dict = dict((rn,score[rn].mid.fmeasure) for rn in rouge_names)\n",
    "pd.DataFrame(rouge_dict, index = ['Fine Tuned Model'])"
   ]
  },
  {
   "cell_type": "code",
   "execution_count": 20,
   "metadata": {
    "execution": {
     "iopub.execute_input": "2023-09-15T06:29:10.723741Z",
     "iopub.status.busy": "2023-09-15T06:29:10.723005Z",
     "iopub.status.idle": "2023-09-15T06:29:14.089149Z",
     "shell.execute_reply": "2023-09-15T06:29:14.088003Z",
     "shell.execute_reply.started": "2023-09-15T06:29:10.723704Z"
    }
   },
   "outputs": [],
   "source": [
    "#testing\n",
    "gen_kwargs = {\"length_penalty\":0.8,\"num_beams\":8,\"max_length\":256}\n",
    "del model_before_training\n",
    "\n",
    "sample_text = data_val['prompt'][5]\n",
    "# tokenizer1 = AutoTokenizer.from_pretrained(model_ckpt)\n",
    "reference = data_val['code'][5]\n",
    "trained_model = AutoModelForSeq2SeqLM.from_pretrained(\"fine-tuned_\"+modelname)\n",
    "pipe_from_trained = pipeline('text2text-generation', model =trained_model,tokenizer = tokenizer)"
   ]
  },
  {
   "cell_type": "code",
   "execution_count": null,
   "metadata": {},
   "outputs": [],
   "source": [
    "print(\"prompt\")\n",
    "print(sample_text)\n",
    "\n",
    "print(\"\\n Actual Code\")\n",
    "print(reference)\n",
    "\n",
    "print(\"\\n Generated Code\")\n",
    "print(pipe_from_trained(sample_text, **gen_kwargs))"
   ]
  },
  {
   "cell_type": "code",
   "execution_count": null,
   "metadata": {},
   "outputs": [],
   "source": [
    "with open(f\"Results_of_code_generated_from_{modelname}details\",'a') as f:\n",
    "    f.write(\"Model Details are as follows:\"+'\\n')\n",
    "    f.write(\"Name : \"+model_ckpt+'\\n')\n",
    "    f.write(f\"Trained For {100} epochs\"+'\\n')\n",
    "    f.write(f\"Trained on 208 Data Points\"+'\\n')\n",
    "    f.write(f\"Time for Code Training : {total_time}\"+'\\n')"
   ]
  },
  {
   "cell_type": "code",
   "execution_count": null,
   "metadata": {},
   "outputs": [],
   "source": []
  }
 ],
 "metadata": {
  "kernelspec": {
   "display_name": "Python 3 (ipykernel)",
   "language": "python",
   "name": "python3"
  },
  "language_info": {
   "codemirror_mode": {
    "name": "ipython",
    "version": 3
   },
   "file_extension": ".py",
   "mimetype": "text/x-python",
   "name": "python",
   "nbconvert_exporter": "python",
   "pygments_lexer": "ipython3",
   "version": "3.9.13"
  }
 },
 "nbformat": 4,
 "nbformat_minor": 4
}
